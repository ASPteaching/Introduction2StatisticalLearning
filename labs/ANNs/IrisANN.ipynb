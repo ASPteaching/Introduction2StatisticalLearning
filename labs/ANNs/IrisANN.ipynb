{
 "cells": [
  {
   "cell_type": "markdown",
   "metadata": {
    "id": "ZgLg5dAXGrms"
   },
   "source": [
    "# Importing Libraries and Data"
   ]
  },
  {
   "cell_type": "markdown",
   "metadata": {
    "id": "Cg29LS0-LiUm"
   },
   "source": [
    "<font color='blue'>Cell 1\n",
    "Importing libraries"
   ]
  },
  {
   "cell_type": "code",
   "execution_count": null,
   "metadata": {
    "id": "gaaGOnna5M-o"
   },
   "outputs": [],
   "source": [
    "## Upload data from Module 3 data folder: \n",
    "\n",
    "# data1.csv \n",
    "\n",
    "# Note, make sure not to upload the data1.csv from Module 2"
   ]
  },
  {
   "cell_type": "code",
   "execution_count": 18,
   "metadata": {
    "_cell_guid": "0bb3fe27-8f88-5516-eefc-649a61ce62ae",
    "_uuid": "e9b103b270aa7e62add41bce5fc79b1ed7f2d3a0",
    "cellView": "code",
    "id": "KFjCNR-yPk0o"
   },
   "outputs": [],
   "source": [
    "import numpy as np\n",
    "import pandas as pd\n",
    "import seaborn as sns\n",
    "import matplotlib.pyplot as plt\n",
    "\n",
    "%matplotlib inline"
   ]
  },
  {
   "cell_type": "markdown",
   "metadata": {
    "id": "XbHmHq92MIM1"
   },
   "source": [
    "<font color='blue'>Cell 2\n",
    "Reading the data"
   ]
  },
  {
   "cell_type": "code",
   "execution_count": 19,
   "metadata": {
    "_cell_guid": "504c384b-1248-0bfa-92d8-0909a505438f",
    "_uuid": "8af2462230f4b596a462822bcfaec54ca5e0f362",
    "colab": {
     "base_uri": "https://localhost:8080/",
     "height": 204
    },
    "executionInfo": {
     "elapsed": 13,
     "status": "ok",
     "timestamp": 1621967870877,
     "user": {
      "displayName": "Leif Wilm",
      "photoUrl": "",
      "userId": "04857518338297398200"
     },
     "user_tz": 360
    },
    "id": "U9iOHF9mPk2E",
    "outputId": "acf66200-dbe9-4d59-bc67-29abcec34fd0"
   },
   "outputs": [
    {
     "data": {
      "text/html": [
       "<div>\n",
       "<style scoped>\n",
       "    .dataframe tbody tr th:only-of-type {\n",
       "        vertical-align: middle;\n",
       "    }\n",
       "\n",
       "    .dataframe tbody tr th {\n",
       "        vertical-align: top;\n",
       "    }\n",
       "\n",
       "    .dataframe thead th {\n",
       "        text-align: right;\n",
       "    }\n",
       "</style>\n",
       "<table border=\"1\" class=\"dataframe\">\n",
       "  <thead>\n",
       "    <tr style=\"text-align: right;\">\n",
       "      <th></th>\n",
       "      <th>Sepal_Length</th>\n",
       "      <th>Sepal_Width</th>\n",
       "      <th>Petal_Length</th>\n",
       "      <th>Petal_Width</th>\n",
       "      <th>Species</th>\n",
       "    </tr>\n",
       "  </thead>\n",
       "  <tbody>\n",
       "    <tr>\n",
       "      <th>0</th>\n",
       "      <td>5.1</td>\n",
       "      <td>3.5</td>\n",
       "      <td>1.4</td>\n",
       "      <td>0.2</td>\n",
       "      <td>Iris-setosa</td>\n",
       "    </tr>\n",
       "    <tr>\n",
       "      <th>1</th>\n",
       "      <td>4.9</td>\n",
       "      <td>3.0</td>\n",
       "      <td>1.4</td>\n",
       "      <td>0.2</td>\n",
       "      <td>Iris-setosa</td>\n",
       "    </tr>\n",
       "    <tr>\n",
       "      <th>2</th>\n",
       "      <td>4.7</td>\n",
       "      <td>3.2</td>\n",
       "      <td>1.3</td>\n",
       "      <td>0.2</td>\n",
       "      <td>Iris-setosa</td>\n",
       "    </tr>\n",
       "    <tr>\n",
       "      <th>3</th>\n",
       "      <td>4.6</td>\n",
       "      <td>3.1</td>\n",
       "      <td>1.5</td>\n",
       "      <td>0.2</td>\n",
       "      <td>Iris-setosa</td>\n",
       "    </tr>\n",
       "    <tr>\n",
       "      <th>4</th>\n",
       "      <td>5.0</td>\n",
       "      <td>3.6</td>\n",
       "      <td>1.4</td>\n",
       "      <td>0.2</td>\n",
       "      <td>Iris-setosa</td>\n",
       "    </tr>\n",
       "  </tbody>\n",
       "</table>\n",
       "</div>"
      ],
      "text/plain": [
       "   Sepal_Length  Sepal_Width  Petal_Length  Petal_Width      Species\n",
       "0           5.1          3.5           1.4          0.2  Iris-setosa\n",
       "1           4.9          3.0           1.4          0.2  Iris-setosa\n",
       "2           4.7          3.2           1.3          0.2  Iris-setosa\n",
       "3           4.6          3.1           1.5          0.2  Iris-setosa\n",
       "4           5.0          3.6           1.4          0.2  Iris-setosa"
      ]
     },
     "execution_count": 19,
     "metadata": {},
     "output_type": "execute_result"
    }
   ],
   "source": [
    "#read data from csv\n",
    "iris = pd.read_csv(\"Data/IrisData1.csv\")\n",
    "iris.head()\n"
   ]
  },
  {
   "cell_type": "markdown",
   "metadata": {
    "id": "JtkSowGKMMzY"
   },
   "source": [
    "<font color='blue'>Cell 3\n",
    "Dataset verification"
   ]
  },
  {
   "cell_type": "code",
   "execution_count": 20,
   "metadata": {
    "colab": {
     "base_uri": "https://localhost:8080/"
    },
    "executionInfo": {
     "elapsed": 11,
     "status": "ok",
     "timestamp": 1621967870878,
     "user": {
      "displayName": "Leif Wilm",
      "photoUrl": "",
      "userId": "04857518338297398200"
     },
     "user_tz": 360
    },
    "id": "UGH2orhQsBFG",
    "outputId": "aa9066f7-9397-40c3-a482-f08cfd057dea"
   },
   "outputs": [
    {
     "name": "stdout",
     "output_type": "stream",
     "text": [
      "Dataset is complete. No missing values\n"
     ]
    }
   ],
   "source": [
    "#Check the dataset to make sure no data is missing and Check the class labels\n",
    "def verify_dataset(data):\n",
    "  #if any of the rows have missing value return datas missing\n",
    "  data_found = 1\n",
    "  for each_column in data.columns:\n",
    "    if data[each_column].isnull().any():\n",
    "            print(\"Data missing in Column \" + each_column)\n",
    "            #if any rows are not missing return Dataset is complete. No missing value\n",
    "            quit()\n",
    "    if data_found == 1:\n",
    "        print(\"Dataset is complete. No missing values\")\n",
    "    return\n",
    "\n",
    "verify_dataset(iris)"
   ]
  },
  {
   "cell_type": "markdown",
   "metadata": {
    "id": "rh8rI4HdMRs-"
   },
   "source": [
    "<font color='blue'>Cell 4\n",
    "One hot encoding function"
   ]
  },
  {
   "cell_type": "code",
   "execution_count": 21,
   "metadata": {
    "_cell_guid": "ec0bfe6e-c47c-f12f-0a1f-6a461105cf70",
    "_uuid": "e624be71b3eb8591ff21ebdb807655ba03a2cabe",
    "id": "l6m47msaPk1Z"
   },
   "outputs": [],
   "source": [
    "#This function accepts an array of categorical variables and returns the one hot encoding\n",
    "def to_one_hot(Y):\n",
    "    n_col = np.amax(Y) + 1\n",
    "    binarized = np.zeros((len(Y), n_col))\n",
    "    for i in range(len(Y)):\n",
    "        binarized[i, Y[i]] = 1.\n",
    "    return binarized\n"
   ]
  },
  {
   "cell_type": "markdown",
   "metadata": {
    "id": "xH0sjBbMMXB0"
   },
   "source": [
    "<font color='blue'>Cell 5\n",
    "Data normalization function"
   ]
  },
  {
   "cell_type": "code",
   "execution_count": 22,
   "metadata": {
    "id": "v4uX-q1M7f_0"
   },
   "outputs": [],
   "source": [
    "#Normalize array\n",
    "def normalize(X, axis=-1, order=2):\n",
    "    l2 = np.atleast_1d(np.linalg.norm(X, order, axis))\n",
    "    l2[l2 == 0] = 1\n",
    "    return X / np.expand_dims(l2, axis)"
   ]
  },
  {
   "cell_type": "markdown",
   "metadata": {
    "id": "Qy8TCnJvMgqK"
   },
   "source": [
    "<font color='blue'>Cell 6\n",
    "Activation function definitions"
   ]
  },
  {
   "cell_type": "code",
   "execution_count": 23,
   "metadata": {
    "id": "nN0GwjNp7dKl"
   },
   "outputs": [],
   "source": [
    "#sigmoid and its derivative\n",
    "def sigmoid(x):\n",
    "    return 1/(1+np.exp(-x))\n",
    "\n",
    "def sigmoid_deriv(x):\n",
    "    return sigmoid(x)*(1 - sigmoid(x))\n",
    "\n",
    "def user_softmax(A):\n",
    "    expA = np.exp(A)\n",
    "    return expA / expA.sum(axis=1, keepdims=True)"
   ]
  },
  {
   "cell_type": "markdown",
   "metadata": {
    "id": "N2nVLxWiMtJn"
   },
   "source": [
    "<font color='blue'>Cell 7\n",
    "Selecting features from a list"
   ]
  },
  {
   "cell_type": "code",
   "execution_count": 7,
   "metadata": {
    "id": "fM-cC1-AHnJg"
   },
   "outputs": [],
   "source": [
    "'''Change the values below'''\n",
    "sepal_length = True\n",
    "sepal_width = True\n",
    "petal_length = True\n",
    "petal_width = True\n",
    "'''Change the values above'''\n",
    "\n",
    "feature_list = [sepal_length,sepal_width,petal_length,petal_width]"
   ]
  },
  {
   "cell_type": "markdown",
   "metadata": {
    "id": "3TrGe_rSMyOV"
   },
   "source": [
    "<font color='blue'>Cell 8\n",
    "Selecting features and running the normalization function"
   ]
  },
  {
   "cell_type": "code",
   "execution_count": 24,
   "metadata": {
    "id": "vQDmfbbJFn05"
   },
   "outputs": [],
   "source": [
    "#Specifying the input data \"x\"\n",
    "columns = ['Sepal_Length', 'Sepal_Width', 'Petal_Length', 'Petal_Width']\n",
    "x = pd.DataFrame(iris, columns=columns)\n",
    "x = x.to_numpy()\n",
    "x = x[:,feature_list]\n",
    "x = normalize(x)"
   ]
  },
  {
   "cell_type": "markdown",
   "metadata": {
    "id": "BIyog_ePNEnH"
   },
   "source": [
    "<font color='blue'>Cell 9\n",
    "Labelling output data and applying one hot encoding"
   ]
  },
  {
   "cell_type": "code",
   "execution_count": 25,
   "metadata": {
    "_cell_guid": "635a6d0f-b62b-a978-21c2-445f994e0458",
    "_uuid": "5f737ba55d570d5effe9fbb0f3a1267c4f44fd0a",
    "id": "6MbF7oZ6Pk3X"
   },
   "outputs": [],
   "source": [
    "#Replace the species with 1,2 or 3 as appropriate\n",
    "label_dict = dict()\n",
    "label_dict['0'] = 'setosa'\n",
    "label_dict['1'] = 'virginica'\n",
    "label_dict['2'] = 'versicolor'\n",
    "iris['Species'].replace(['Iris-setosa', 'Iris-virginica', 'Iris-versicolor'], [0, 1, 2], inplace=True)\n",
    "\n",
    "#Get Output, flatten and encode to one-hot\n",
    "columns = ['Species']\n",
    "\n",
    "y = pd.DataFrame(iris, columns=columns)\n",
    "y = y.to_numpy()\n",
    "y = y.flatten()\n",
    "y = to_one_hot(y)\n"
   ]
  },
  {
   "cell_type": "markdown",
   "metadata": {
    "id": "Eg5gsjJtNMQ8"
   },
   "source": [
    "<font color='blue'>Cell 10\n",
    "Train test splitting"
   ]
  },
  {
   "cell_type": "code",
   "execution_count": 26,
   "metadata": {
    "id": "jt9sksyP0QuT"
   },
   "outputs": [],
   "source": [
    "x_y = pd.DataFrame(np.concatenate((x,y), axis=1))\n",
    "def split_dataset_test_train(data,train_size):\n",
    "  data = data.sample(frac=1).reset_index(drop=True)\n",
    "  training_data = data.iloc[:int(train_size * len(data))].reset_index(drop=True)\n",
    "  testing_data = data.iloc[int(train_size * len(data)):].reset_index(drop=True)\n",
    "  return [training_data, testing_data]\n",
    "\n",
    "train_test_data = split_dataset_test_train(x_y,0.7)\n",
    "X_train = train_test_data[0].iloc[:,0:4].to_numpy()\n",
    "X_test = train_test_data[1].iloc[:,0:4].to_numpy()\n",
    "\n",
    "y_train = train_test_data[0].iloc[:,-3:].to_numpy()\n",
    "y_test = train_test_data[1].iloc[:,-3:].to_numpy()"
   ]
  },
  {
   "cell_type": "markdown",
   "metadata": {
    "id": "AYmnSNMbNzR2"
   },
   "source": [
    "<font color='blue'>Cell 11\n",
    "Training function definition"
   ]
  },
  {
   "cell_type": "code",
   "execution_count": 27,
   "metadata": {
    "id": "qjy05dvNfMil"
   },
   "outputs": [],
   "source": [
    "def training(lr, batch_size, hidden_size, epochs):\n",
    "\n",
    "  w0 = 2*np.random.random((X_train.shape[1], hidden_size)) - 1 \n",
    "  w1 = 2*np.random.random((hidden_size, 3)) - 1 \n",
    "\n",
    "  bh = np.random.randn(hidden_size)\n",
    "  bo = np.random.randn(3)\n",
    "\n",
    "\n",
    "  rem = len(X_train) % batch_size\n",
    "  num_batch = len(X_train)//batch_size\n",
    "  if rem != 0:\n",
    "    num_batch += 1\n",
    "\n",
    "  #Errors - for graph later\n",
    "  errors = []\n",
    "\n",
    "  for epoch in range(epochs):\n",
    "    for curr_batch in range(num_batch):\n",
    "        # Finding the current batch\n",
    "        batch_start = curr_batch * batch_size\n",
    "        batch_end = batch_start + batch_size\n",
    "        input_batch = X_train[batch_start:batch_end]\n",
    "        \n",
    "        # First layer propagation\n",
    "        zh = np.dot(input_batch, w0) + bh\n",
    "        layer1 = sigmoid(zh)\n",
    "\n",
    "        # Second layer propagation\n",
    "        zo = np.dot(layer1, w1) + bo\n",
    "        layer2 = user_softmax(zo)\n",
    "\n",
    "    ########## Back Propagation\n",
    "\n",
    "    ########## Phase 1\n",
    "        labels_batch = y_train[batch_start:batch_end]\n",
    "        layer2_error = layer2 - labels_batch\n",
    "        layer2w_delta = np.dot(layer1.T, layer2_error)\n",
    "\n",
    "        layer2b_delta = layer2_error\n",
    "\n",
    "    ########## Phases 2\n",
    "\n",
    "        dcost_dah = np.dot(layer2_error , w1.T)\n",
    "        dah_dzh = sigmoid_deriv(zh)\n",
    "        \n",
    "        layer1_error = dah_dzh * dcost_dah\n",
    "        layer1w_delta = np.dot(input_batch.T, layer1_error)\n",
    "\n",
    "        layer1b_delta = layer1_error\n",
    "\n",
    "        # Update Weights ================\n",
    "\n",
    "        w0 -= lr * layer1w_delta\n",
    "        bh -= lr * layer1b_delta.sum(axis=0)\n",
    "\n",
    "        w1 -= lr * layer2w_delta\n",
    "        bo -= lr * layer2b_delta.sum(axis=0)\n",
    "\n",
    "    error = np.mean(np.abs(layer2_error))\n",
    "    errors.append(error)\n",
    "\n",
    "  return [w0,bh,w1,bo], error, errors"
   ]
  },
  {
   "cell_type": "markdown",
   "metadata": {
    "id": "dor5ostQN4o8"
   },
   "source": [
    "<font color='blue'>Cell 12\n",
    "Evaluation function definition"
   ]
  },
  {
   "cell_type": "code",
   "execution_count": 28,
   "metadata": {
    "id": "PzW_BpJzBUps"
   },
   "outputs": [],
   "source": [
    "def evaluation(params,tst_set):\n",
    "  w0 = params[0]\n",
    "  bh = params[1]\n",
    "  w1 = params[2]\n",
    "  bo = params[3]\n",
    "\n",
    "  # First layer propagation\n",
    "  zh = np.dot(tst_set, w0) + bh\n",
    "  layer1 = sigmoid(zh)\n",
    "\n",
    "  # Second layer propagation\n",
    "  zo = np.dot(layer1, w1) + bo\n",
    "  layer2 = user_softmax(zo)\n",
    "\n",
    "  return layer2"
   ]
  },
  {
   "cell_type": "code",
   "execution_count": null,
   "metadata": {
    "id": "EUdsJUQLOobU"
   },
   "outputs": [],
   "source": []
  },
  {
   "cell_type": "markdown",
   "metadata": {
    "id": "XVm-jRaCD2D6"
   },
   "source": [
    "# Exercise 3.2"
   ]
  },
  {
   "cell_type": "markdown",
   "metadata": {
    "id": "sCyoQfJAJOW1"
   },
   "source": [
    "<font color='blue'>Cell 13\n",
    "Selecting parameters and running the training function"
   ]
  },
  {
   "cell_type": "code",
   "execution_count": 29,
   "metadata": {
    "id": "QlbJXVQzD9g4"
   },
   "outputs": [],
   "source": [
    "'''Change these values'''\n",
    "learning_rate = 0.01\n",
    "batch_size = 10\n",
    "hidden_size = 5\n",
    "epochs = 1000\n",
    "\n",
    "trained_params, error, errors = training(learning_rate, batch_size, hidden_size, epochs)"
   ]
  },
  {
   "cell_type": "markdown",
   "metadata": {
    "id": "60qFxclFORdO"
   },
   "source": [
    "<font color='blue'>Cell 14\n",
    "Displaying the errors from training"
   ]
  },
  {
   "cell_type": "code",
   "execution_count": 30,
   "metadata": {
    "colab": {
     "base_uri": "https://localhost:8080/",
     "height": 296
    },
    "executionInfo": {
     "elapsed": 196,
     "status": "ok",
     "timestamp": 1621967872324,
     "user": {
      "displayName": "Leif Wilm",
      "photoUrl": "",
      "userId": "04857518338297398200"
     },
     "user_tz": 360
    },
    "id": "VnSy9R4yfSXI",
    "outputId": "a72457be-871b-4a6d-936b-7f00f692e7a1"
   },
   "outputs": [
    {
     "data": {
      "image/png": "[encoded data removed]",
      "text/plain": [
       "<Figure size 640x480 with 1 Axes>"
      ]
     },
     "metadata": {},
     "output_type": "display_data"
    },
    {
     "name": "stdout",
     "output_type": "stream",
     "text": [
      "Training Accuracy 86.21%\n"
     ]
    }
   ],
   "source": [
    "#Plot the accuracy chart\n",
    "accuracy = (1 - error) * 100\n",
    "\n",
    "plt.plot(errors)\n",
    "plt.xlabel('Training')\n",
    "plt.ylabel('Error')\n",
    "plt.show()\n",
    "        \n",
    "print(\"Training Accuracy \" + str(round(accuracy,2)) + \"%\")"
   ]
  },
  {
   "cell_type": "markdown",
   "metadata": {
    "id": "PIyXy3hcJqC8"
   },
   "source": [
    "<font color='blue'>Cell 15\n",
    "Running the evaluation function"
   ]
  },
  {
   "cell_type": "code",
   "execution_count": 34,
   "metadata": {
    "id": "41O6CLgaEpmu"
   },
   "outputs": [],
   "source": [
    "y_pred = evaluation(trained_params,X_test)"
   ]
  },
  {
   "cell_type": "markdown",
   "metadata": {
    "id": "g0P0L-DwOiNo"
   },
   "source": [
    "<font color='blue'>Cell 16\n",
    "Displaying the confusion matrix"
   ]
  },
  {
   "cell_type": "code",
   "execution_count": 35,
   "metadata": {
    "colab": {
     "base_uri": "https://localhost:8080/",
     "height": 374
    },
    "executionInfo": {
     "elapsed": 160,
     "status": "ok",
     "timestamp": 1621967872480,
     "user": {
      "displayName": "Leif Wilm",
      "photoUrl": "",
      "userId": "04857518338297398200"
     },
     "user_tz": 360
    },
    "id": "lvhIzGEkOBDn",
    "outputId": "4df39c6e-92d9-416f-ffff-b3683b9d32ef"
   },
   "outputs": [
    {
     "data": {
      "image/png": "[encoded data removed]",
      "text/plain": [
       "<Figure size 600x600 with 1 Axes>"
      ]
     },
     "metadata": {},
     "output_type": "display_data"
    }
   ],
   "source": [
    "y_actual = pd.Series(y_test.argmax(axis=1))\n",
    "y_pred = pd.Series(y_pred.argmax(axis=1))\n",
    "cm = pd.crosstab(y_actual,y_pred).to_numpy()\n",
    "\n",
    "if cm.shape[1]<3:\n",
    "  cm = np.concatenate((cm,np.zeros((3,3-cm.shape[1]))),axis=1)\n",
    "\n",
    "cm_norm = np.array([cm[i][j]/cm[i].sum() for i in range(cm.shape[0]) for j in range(cm.shape[1])])\n",
    "cm_norm = cm_norm.reshape(3,3)\n",
    "\n",
    "\n",
    "import seaborn as sns\n",
    "from matplotlib.colors import ListedColormap\n",
    "\n",
    "\n",
    "df_cm = pd.DataFrame(cm_norm, index = ['setosa','virginica','versicolor'],\n",
    "                  columns = ['setosa','virginica','versicolor'])\n",
    "\n",
    "\n",
    "plt.figure(figsize = (6,6))\n",
    "\n",
    "with sns.axes_style('white'):\n",
    "    sns.heatmap(df_cm,\n",
    "                cbar=False,\n",
    "                square=False,\n",
    "                annot=True,\n",
    "                annot_kws={\"size\": 20},\n",
    "                cmap=ListedColormap(['white']),\n",
    "                linewidths=0.5)\n",
    "    sns.set(font_scale=1.8)"
   ]
  },
  {
   "cell_type": "markdown",
   "metadata": {
    "id": "nSVRB6WUIxnh"
   },
   "source": [
    "# Exercise 3.1"
   ]
  },
  {
   "cell_type": "markdown",
   "metadata": {
    "id": "zY3-emXNI8Pk"
   },
   "source": [
    "<font color='blue'>Cell 17\n",
    "Function for testing flower dimensions"
   ]
  },
  {
   "cell_type": "code",
   "execution_count": 36,
   "metadata": {
    "colab": {
     "base_uri": "https://localhost:8080/"
    },
    "executionInfo": {
     "elapsed": 7518,
     "status": "ok",
     "timestamp": 1621968240659,
     "user": {
      "displayName": "Leif Wilm",
      "photoUrl": "",
      "userId": "04857518338297398200"
     },
     "user_tz": 360
    },
    "id": "fVoeyBbbC9qe",
    "outputId": "9c516807-7cf6-4340-886c-7ed87890e339"
   },
   "outputs": [
    {
     "name": "stdout",
     "output_type": "stream",
     "text": [
      "The flower is most likely Iris-versicolor\n"
     ]
    }
   ],
   "source": [
    "\n",
    "def input_test_seq():\n",
    "    sepal_length = float(input('Enter the Sepal length in cm :'))\n",
    "    while True:\n",
    "        if float(sepal_length)< 0 or float(sepal_length) > 10:\n",
    "            print('Inalid Entry. Enter Sepal Length <10 \\n')\n",
    "            sepal_length = float(input('Enter the sepal length in cm :'))\n",
    "            continue\n",
    "        else:\n",
    "            break\n",
    "\n",
    "    sepal_width = float(input('Enter the Sepal width in cm :'))\n",
    "    while True:\n",
    "        if float(sepal_width) < 0 or float(sepal_width) > 10:\n",
    "            print('Invalid entry')\n",
    "            sepal_width = float(input('Enter the sepal width in cm :'))\n",
    "            continue\n",
    "        else:\n",
    "            break\n",
    "\n",
    "    petal_length = float(input('Enter the petal length in cm :'))\n",
    "    while True:\n",
    "        if float(petal_length) <0 or float(petal_length) > 10:\n",
    "            print('Inalid Entry. Please enter value less than 10')\n",
    "            petal_length = float(input('Enter the petal length in cm :'))\n",
    "            continue\n",
    "        else:\n",
    "            break\n",
    "\n",
    "    petal_width = float(input('Enter the petal width in cm :'))\n",
    "    while True:\n",
    "        if float(petal_width) < 0 or float(petal_width) > 10:\n",
    "            print('Invalid entry')\n",
    "            petal_width = float(input('Enter the petal width in cm :'))\n",
    "            continue\n",
    "        else:\n",
    "            break\n",
    "\n",
    "    predict_features = [sepal_length,sepal_width,petal_length,petal_width]\n",
    "    predict_features = normalize(predict_features)\n",
    "    result_category = evaluation(trained_params,predict_features)\n",
    "    result_category = result_category.argmax(axis=1)[0]\n",
    "\n",
    "    if result_category == 0:\n",
    "        value_prediction = \"Iris-setosa\"\n",
    "    elif result_category == 1:\n",
    "        value_prediction = \"Iris-versicolor\"\n",
    "    elif result_category == 2:\n",
    "        value_prediction = \"Iris-virginica\"\n",
    "    return value_prediction\n",
    "\n",
    "flower_prediction = input_test_seq()\n",
    "print(\"The flower is most likely\", flower_prediction)"
   ]
  }
 ],
 "metadata": {
  "_change_revision": 0,
  "_is_fork": false,
  "colab": {
   "collapsed_sections": [],
   "name": "IrisANN.ipynb",
   "provenance": [],
   "toc_visible": true
  },
  "kernelspec": {
   "display_name": "Python 3 (ipykernel)",
   "language": "python",
   "name": "python3"
  },
  "language_info": {
   "codemirror_mode": {
    "name": "ipython",
    "version": 3
   },
   "file_extension": ".py",
   "mimetype": "text/x-python",
   "name": "python",
   "nbconvert_exporter": "python",
   "pygments_lexer": "ipython3",
   "version": "3.11.7"
  }
 },
 "nbformat": 4,
 "nbformat_minor": 4
}
