{
 "cells": [
  {
   "cell_type": "markdown",
   "metadata": {},
   "source": [
    "# Fitting an ANN with *Scikitlearn*"
   ]
  },
  {
   "cell_type": "markdown",
   "metadata": {},
   "source": [
    "In this exercise we will build a simple NN to detect diabetes using the famous PIMA indians dataset.\n",
    "\n",
    "The dataset contains 768 observations and 9 variables, as described below:\n",
    "\n",
    "1. `pregnancies` - Number of times pregnant.\n",
    "2. `glucose` - Plasma glucose concentration.\n",
    "3. `diastolic` - Diastolic blood pressure (mm Hg).\n",
    "4. `triceps` - Skinfold thickness (mm).\n",
    "5. `insulin` - Hour serum insulin (mu U/ml).\n",
    "6. `bmi` – Basal metabolic rate (weight in kg/height in m).\n",
    "7. `dpf` - Diabetes pedigree function.\n",
    "8. `age` - Age in years.\n",
    "9. `diabetes` - “1” represents the presence of diabetes while “0” represents the absence of it. This is the target variable.\n",
    "\n",
    "We will follow the following steps:\n",
    "\n",
    "1. Loading the required libraries and modules.\n",
    "2. Reading the data and performing basic data checks.\n",
    "3. Creating arrays for the features and the response variable.\n",
    "4. Creating the training and test datasets.\n",
    "5. Building , predicting, and evaluating the neural network model."
   ]
  }
 ],
 "metadata": {
  "kernelspec": {
   "display_name": "Python 3",
   "language": "python",
   "name": "python3"
  },
  "language_info": {
   "name": "python",
   "version": "3.12.1"
  }
 },
 "nbformat": 4,
 "nbformat_minor": 2
}
