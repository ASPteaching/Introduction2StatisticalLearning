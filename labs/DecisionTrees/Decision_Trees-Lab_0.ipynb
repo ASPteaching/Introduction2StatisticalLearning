{
 "cells": [
  {
   "cell_type": "markdown",
   "id": "af5259e3",
   "metadata": {},
   "source": [
    "## The Pima Indians dataset\n",
    "\n",
    "The Pima Indian Diabetes data set (`PimaIndiansDiabetes2`) is available in the `mlbench` package.\n",
    "\n",
    "The data contains 768 individuals (female) and 9 clinical variables for predicting the probability of individuals in being diabete-positive or negative:\n",
    "\n",
    "-   pregnant: number of times pregnant\n",
    "-   glucose: plasma glucose concentration\n",
    "-   pressure: diastolic blood pressure (mm Hg)\n",
    "-   triceps: triceps skin fold thickness (mm)\n",
    "-   insulin: 2-Hour serum insulin (mu U/ml)\n",
    "-   mass: body mass index (weight in kg/(height in m)\\^2)\n",
    "-   pedigree: diabetes pedigree function\n",
    "-   age: age (years)\n",
    "-   diabetes: class variable\n",
    "\n",
    "A typical classification/prediction problem is **to build a model that can distinguish and predict diabetes using some or all the variables in the dataset**.\n",
    "\n",
    "We start by getting the data and loading it"
   ]
  },
  {
   "cell_type": "code",
   "execution_count": 1,
   "id": "0ee83cbd",
   "metadata": {},
   "outputs": [],
   "source": [
    "import pandas as pd\n",
    "from sklearn import datasets\n",
    "\n",
    "# Cargar el dataset de Pima Indians Diabetes desde seaborn\n",
    "url = \"https://raw.githubusercontent.com/jbrownlee/Datasets/master/pima-indians-diabetes.data.csv\"\n",
    "\n",
    "# Cargar el dataset\n",
    "column_names = [\"pregnancies\", \"glucose\", \"blood_pressure\", \"skin_thickness\", \n",
    "                \"insulin\", \"bmi\", \"diabetes_pedigree\", \"age\", \"outcome\"]\n",
    "\n",
    "df = pd.read_csv(url, names=column_names)\n"
   ]
  },
  {
   "cell_type": "code",
   "execution_count": null,
   "id": "75f2cfe6",
   "metadata": {},
   "outputs": [],
   "source": []
  }
 ],
 "metadata": {
  "kernelspec": {
   "display_name": "Python 3 (ipykernel)",
   "language": "python",
   "name": "python3"
  },
  "language_info": {
   "codemirror_mode": {
    "name": "ipython",
    "version": 3
   },
   "file_extension": ".py",
   "mimetype": "text/x-python",
   "name": "python",
   "nbconvert_exporter": "python",
   "pygments_lexer": "ipython3",
   "version": "3.11.5"
  }
 },
 "nbformat": 4,
 "nbformat_minor": 5
}
