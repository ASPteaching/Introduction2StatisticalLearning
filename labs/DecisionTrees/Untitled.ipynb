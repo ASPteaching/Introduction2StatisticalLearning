{
 "cells": [
  {
   "cell_type": "markdown",
   "id": "974523cb",
   "metadata": {},
   "source": [
    "# Predicting Diabetes Onset on the PIMA Indian database\n",
    "\n",
    "The Pima Indian Diabetes data set (`PimaIndiansDiabetes2`) The data contains 768 individuals (female) and 9 clinical variables for predicting the probability of individuals in being diabete-positive or negative:\n",
    "\n",
    "-   pregnant: number of times pregnant\n",
    "-   glucose: plasma glucose concentration\n",
    "-   pressure: diastolic blood pressure (mm Hg)\n",
    "-   triceps: triceps skin fold thickness (mm)\n",
    "-   insulin: 2-Hour serum insulin (mu U/ml)\n",
    "-   mass: body mass index (weight in kg/(height in m)\\^2)\n",
    "-   pedigree: diabetes pedigree function\n",
    "-   age: age (years)\n",
    "-   diabetes: class variable\n",
    "\n",
    "In Python it can be obtained from the `pydataset` package\n"
   ]
  }
 ],
 "metadata": {
  "kernelspec": {
   "display_name": "Python 3 (ipykernel)",
   "language": "python",
   "name": "python3"
  },
  "language_info": {
   "codemirror_mode": {
    "name": "ipython",
    "version": 3
   },
   "file_extension": ".py",
   "mimetype": "text/x-python",
   "name": "python",
   "nbconvert_exporter": "python",
   "pygments_lexer": "ipython3",
   "version": "3.11.5"
  }
 },
 "nbformat": 4,
 "nbformat_minor": 5
}
