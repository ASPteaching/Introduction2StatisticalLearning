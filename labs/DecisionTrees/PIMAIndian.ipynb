{
 "cells": [
  {
   "cell_type": "markdown",
   "id": "2baa341e",
   "metadata": {},
   "source": [
    "# Predicting Diabetes Onset on the PIMA Indian database\n",
    "\n",
    "The Pima Indian Diabetes data set (`PimaIndiansDiabetes2`) The data contains 768 individuals (female) and 9 clinical variables for predicting the probability of individuals in being diabete-positive or negative:\n",
    "\n",
    "-   pregnant: number of times pregnant\n",
    "-   glucose: plasma glucose concentration\n",
    "-   pressure: diastolic blood pressure (mm Hg)\n",
    "-   triceps: triceps skin fold thickness (mm)\n",
    "-   insulin: 2-Hour serum insulin (mu U/ml)\n",
    "-   mass: body mass index (weight in kg/(height in m)\\^2)\n",
    "-   pedigree: diabetes pedigree function\n",
    "-   age: age (years)\n",
    "-   diabetes: class variable\n",
    "\n",
    "In Python it can be obtained from the `pydataset` package\n"
   ]
  },
  {
   "cell_type": "code",
   "execution_count": 1,
   "id": "bf4153ba",
   "metadata": {},
   "outputs": [],
   "source": [
    "import numpy as np\n",
    "import pandas as pd\n",
    "import matplotlib.pyplot as plt\n"
   ]
  },
  {
   "cell_type": "code",
   "execution_count": 3,
   "id": "698f038e",
   "metadata": {},
   "outputs": [],
   "source": [
    "from sklearn.tree import DecisionTreeClassifier, plot_tree"
   ]
  },
  {
   "cell_type": "code",
   "execution_count": 1,
   "id": "d90b5234",
   "metadata": {},
   "outputs": [
    {
     "ename": "ModuleNotFoundError",
     "evalue": "No module named 'pydataset'",
     "output_type": "error",
     "traceback": [
      "\u001b[1;31m---------------------------------------------------------------------------\u001b[0m",
      "\u001b[1;31mModuleNotFoundError\u001b[0m                       Traceback (most recent call last)",
      "Cell \u001b[1;32mIn[1], line 2\u001b[0m\n\u001b[0;32m      1\u001b[0m \u001b[38;5;66;03m# Load the Pima Indians Diabetes dataset\u001b[39;00m\n\u001b[1;32m----> 2\u001b[0m \u001b[38;5;28;01mfrom\u001b[39;00m \u001b[38;5;21;01mpydataset\u001b[39;00m \u001b[38;5;28;01mimport\u001b[39;00m data\n\u001b[0;32m      3\u001b[0m df \u001b[38;5;241m=\u001b[39m data(\u001b[38;5;124m'\u001b[39m\u001b[38;5;124mPima.tr\u001b[39m\u001b[38;5;124m'\u001b[39m)\n",
      "\u001b[1;31mModuleNotFoundError\u001b[0m: No module named 'pydataset'"
     ]
    }
   ],
   "source": [
    "# Load the Pima Indians Diabetes dataset\n",
    "from pydataset import data\n",
    "df = data('Pima.tr')\n"
   ]
  },
  {
   "cell_type": "code",
   "execution_count": null,
   "id": "82c0da93",
   "metadata": {},
   "outputs": [],
   "source": []
  }
 ],
 "metadata": {
  "kernelspec": {
   "display_name": "Python 3 (ipykernel)",
   "language": "python",
   "name": "python3"
  },
  "language_info": {
   "codemirror_mode": {
    "name": "ipython",
    "version": 3
   },
   "file_extension": ".py",
   "mimetype": "text/x-python",
   "name": "python",
   "nbconvert_exporter": "python",
   "pygments_lexer": "ipython3",
   "version": "3.11.5"
  }
 },
 "nbformat": 4,
 "nbformat_minor": 5
}
