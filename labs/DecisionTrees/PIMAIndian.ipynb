{
 "cells": [
  {
   "cell_type": "code",
   "metadata": {},
   "source": [
    "import subprocess\n",
    "import sys\n",
    "\n",
    "def install_and_import(package):\n",
    "    try:\n",
    "        __import__(package)\n",
    "    except ImportError:\n",
    "        print(f'Instalando {package}...')\n",
    "        subprocess.check_call([sys.executable, '-m', 'pip', 'install', package])\n",
    "        __import__(package)\n",
    "\n",
    "# Lista de paquetes necesarios\n",
    "packages = ['pandas', 'numpy', 'scikit-learn', 'matplotlib']\n",
    "for package in packages:\n",
    "    install_and_import(package)\n",
    "\n",
    "# Importar paquetes después de la instalación\n",
    "import pandas as pd\n",
    "import numpy as np\n",
    "from sklearn.model_selection import train_test_split\n",
    "from sklearn.tree import DecisionTreeClassifier, export_text\n",
    "from sklearn import tree\n",
    "import matplotlib.pyplot as plt\n"
   ]
  },
  {
   "cell_type": "code",
   "metadata": {},
   "source": [
    "from sklearn.datasets import fetch_openml\n",
    "dataset = fetch_openml(name='diabetes', version=1, as_frame=True)\n",
    "df = dataset.data\n",
    "df['diabetes'] = dataset.target.astype('category')\n",
    "\n",
    "# Eliminar valores NA\n",
    "df.dropna(inplace=True)\n"
   ]
  },
  {
   "cell_type": "code",
   "metadata": {},
   "source": [
    "print(df.info())\n",
    "print(df.describe())\n",
    "print(df['diabetes'].value_counts())\n"
   ]
  },
  {
   "cell_type": "code",
   "metadata": {},
   "source": [
    "train_data, test_data, train_labels, test_labels = train_test_split(\n",
    "    df.drop(columns=['diabetes']), df['diabetes'], test_size=0.2, random_state=123\n",
    ")\n"
   ]
  },
  {
   "cell_type": "code",
   "metadata": {},
   "source": [
    "model = DecisionTreeClassifier(ccp_alpha=0.01, random_state=123)\n",
    "model.fit(train_data, train_labels)\n"
   ]
  },
  {
   "cell_type": "code",
   "metadata": {},
   "source": [
    "plt.figure(figsize=(12, 6))\n",
    "tree.plot_tree(model, filled=True, feature_names=train_data.columns, class_names=model.classes_)\n",
    "plt.show()\n"
   ]
  },
  {
   "cell_type": "code",
   "metadata": {},
   "source": [
    "accuracy = model.score(test_data, test_labels)\n",
    "print(f'Test Accuracy: {accuracy:.3f}')\n"
   ]
  }
 ],
 "metadata": {
  "kernelspec": {
   "display_name": "Python 3",
   "language": "python",
   "name": "python3"
  },
  "language_info": {
   "codemirror_mode": {
    "name": "ipython",
    "version": 3
   },
   "file_extension": ".py",
   "mimetype": "text/x-python",
   "name": "python",
   "nbconvert_exporter": "python",
   "pygments_lexer": "ipython3",
   "version": "3.8.10"
  }
 }
}
